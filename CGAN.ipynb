{
 "cells": [
  {
   "cell_type": "code",
   "execution_count": 1,
   "id": "5a0b97ef-1a08-477c-b743-5f8f94a0d9e7",
   "metadata": {},
   "outputs": [],
   "source": [
    "import torch\n",
    "import torch.nn as nn\n",
    "import torch.utils.data as data\n",
    "import torchvision.transforms as transforms # استعمال transforms من torch vision لتبيق عمليات preprocessing على الصور\n",
    "import torch.nn.functional as F # import finctional that includes activation functions\n",
    "from torch.autograd import Variable\n",
    "import torchvision.utils as vutils# to save images\n",
    "import torchvision\n",
    "import torch.optim as optim#استعمال class optim\n"
   ]
  },
  {
   "cell_type": "code",
   "execution_count": 2,
   "id": "8ebc1728-ebb7-4a21-9c41-a6c20a965168",
   "metadata": {},
   "outputs": [
    {
     "name": "stdout",
     "output_type": "stream",
     "text": [
      "Using device: cuda\n",
      "\n"
     ]
    }
   ],
   "source": [
    "\n",
    "b_size = 64 # We set the size of the batch.\n",
    "imageSize = 64 # We set the size of the generated images (64x64).\n",
    "device = torch.device('cuda' if torch.cuda.is_available() else 'cpu')\n",
    "print('Using device:', device)\n",
    "print()\n",
    "# Creating the transformations\n",
    "transform = transforms.Compose([transforms.Resize((imageSize,imageSize)), transforms.ToTensor(), transforms.Normalize(mean=0.5, std=0.5)]) # We create a list of transformations (scaling, tensor conversion, normalization) to apply to the input images.\n",
    "\n",
    "data_set=torchvision.datasets.MNIST(root='data',download=False,transform=transform)#if you dont have mnist data_Set then set download =True"
   ]
  },
  {
   "cell_type": "code",
   "execution_count": 3,
   "id": "f5d0074a-e58a-4a9a-b492-ac7b3961bc5e",
   "metadata": {},
   "outputs": [],
   "source": [
    "dataloader = torch.utils.data.DataLoader(data_set, batch_size = b_size, shuffle = True, num_workers = 2) # We use dataLoader to get the images of the training set batch by batch."
   ]
  },
  {
   "cell_type": "code",
   "execution_count": 4,
   "id": "c66750f1-adda-446a-8bb5-57d52d51db19",
   "metadata": {},
   "outputs": [
    {
     "data": {
      "image/png": "[encoded data removed]",
      "text/plain": [
       "<Figure size 1000x1000 with 12 Axes>"
      ]
     },
     "metadata": {},
     "output_type": "display_data"
    }
   ],
   "source": [
    "import gzip\n",
    "import matplotlib.pyplot as plt\n",
    "import numpy as np\n",
    "f = gzip.open('data/MNIST/raw/t10k-images-idx3-ubyte.gz','r')\n",
    "f.read(8)\n",
    "fig = plt.figure(figsize=(10, 10))#create images matrix\n",
    "image_size=28\n",
    "num_images=5\n",
    "for i in range(0,12):   \n",
    "    buf = f.read(image_size * image_size * num_images)\n",
    "    data = np.frombuffer(buf, dtype=np.uint8).astype(np.float32)\n",
    "    data = data.reshape(num_images, image_size, image_size, 1)\n",
    "    image = np.asarray(data[2]).squeeze()\n",
    "    fig.add_subplot(5, 4, i+1,)# add image to images matrix\n",
    "    # showing image\n",
    "    plt.imshow(image)\n",
    "    plt.axis('off')\n",
    "plt.show()"
   ]
  },
  {
   "cell_type": "code",
   "execution_count": 4,
   "id": "5144e07c-6be4-4985-b7e9-38f998910b1a",
   "metadata": {},
   "outputs": [
    {
     "name": "stdout",
     "output_type": "stream",
     "text": [
      "tensor([2, 3, 7, 1, 5, 8, 1, 6, 9, 8, 3, 2, 8, 8, 1, 7, 4, 5, 0, 2, 1, 4, 8, 8,\n",
      "        6, 6, 8, 1, 7, 2, 0, 4, 3, 7, 2, 7, 2, 2, 6, 0, 4, 6, 0, 1, 3, 0, 0, 7,\n",
      "        6, 8, 6, 9, 0, 8, 5, 7, 4, 1, 6, 8, 3, 9, 5, 1])\n"
     ]
    }
   ],
   "source": [
    "for xb,yb in dataloader:\n",
    "    print(yb)\n",
    "    break"
   ]
  },
  {
   "cell_type": "code",
   "execution_count": 5,
   "id": "73cd19bd-aab4-4544-8879-2e342647c8a9",
   "metadata": {},
   "outputs": [],
   "source": [
    "class Des(nn.Module):\n",
    "    def __init__(self):\n",
    "        super(Des,self).__init__()\n",
    "        self.conv1=nn.Conv2d(2,64,4,2,1,bias=False)#input,n_feautre_maps,kernel_size,stride,padding,biase state\n",
    "        self.conv2=nn.Conv2d(64,128,4,2,1,bias=False)#input,n_feautre_maps,kernel_size,stride,padding,biase state\n",
    "        self.batch2=nn.BatchNorm2d(128)#input\n",
    "        self.conv3=nn.Conv2d(128,256,4,2,1,bias=False)#input,n_feautre_maps,kernel_size,stride,padding,biase state\n",
    "        self.batch3=nn.BatchNorm2d(256)\n",
    "        self.conv4=nn.Conv2d(256,512,4,2,1,bias=False)#input,n_feautre_maps,kernel_size,stride,padding,biase state\n",
    "        self.batch4=nn.BatchNorm2d(512)\n",
    "        self.conv5=nn.Conv2d(512, 1, 4, 1, 0, bias = False)#input,n_feautre_maps,kernel_size,stride,padding,biase state\n",
    "        self.embed=nn.Embedding(10,64*64)\n",
    "    def disc(self,x):\n",
    "        x=F.leaky_relu(self.conv1(x),negative_slope=0.2,inplace=True)# move the input through all the layers\n",
    "        x=F.leaky_relu(self.batch2(self.conv2(x)),negative_slope=0.2,inplace=True)\n",
    "        x=F.dropout2d(x,0.3)\n",
    "        x=F.leaky_relu(self.batch3(self.conv3(x)),negative_slope=0.2,inplace=True)\n",
    "        x=F.leaky_relu(self.batch4(self.conv4(x)),negative_slope=0.2,inplace=True)\n",
    "        x=F.sigmoid(self.conv5(x))\n",
    "        return x.view(-1)\n",
    "    def forward(self,x,labels):\n",
    "        embedding=self.embed(labels).view(labels.shape[0],1,64,64)\n",
    "        #print(embedding.shape)\n",
    "        #print(x.shape)\n",
    "        x=torch.cat([x,embedding],dim=1)\n",
    "        x=self.disc(x)\n",
    "        return x\n",
    "class Gen(nn.Module):\n",
    "    def __init__(self):\n",
    "        super(Gen,self).__init__()\n",
    "        # the order of parameters are writen in the comments beside each line\n",
    "        self.conv1=nn.ConvTranspose2d(200,512,4,1,0,bias=False)# input,number of output feautre maps,kernel size,stride,padding,biase=Flase\n",
    "        self.batch1=nn.BatchNorm2d(512)\n",
    "        self.conv2=nn.ConvTranspose2d(512,256,4,2,1,bias=False)# input,number of output feautre maps,kernel size,stride,padding,biase=Flase\n",
    "        self.batch2=nn.BatchNorm2d(256)\n",
    "        self.conv3=nn.ConvTranspose2d(256,128,4,2,1,bias=False)# input,number of output feautre maps,kernel size,stride,padding,biase=Flase\n",
    "        self.batch3=nn.BatchNorm2d(128)\n",
    "        self.conv4=nn.ConvTranspose2d(128,64,4,2,1,bias=False)# input,number of output feautre maps,kernel size,stride,padding,biase=Flase\n",
    "        self.batch4=nn.BatchNorm2d(64)\n",
    "        self.conv5=nn.ConvTranspose2d(64,1,4,2,1,bias=False)# input,number of output feautre maps,kernel size,stride,padding,biase=Flase\n",
    "        self.embed=nn.Embedding(10,100)\n",
    "    def gen(self,x):\n",
    "        x=F.relu(self.batch1(self.conv1(x)),inplace=True)#means that it will modify the input directly, without allocating any additional output.\n",
    "        #It can sometimes slightly decrease the memory usage\n",
    "        x=F.relu(self.batch2(self.conv2(x)),inplace=True)\n",
    "        x=F.dropout2d(x,0.25)\n",
    "        x=F.relu(self.batch3(self.conv3(x)),inplace=True)\n",
    "        x=F.relu(self.batch4(self.conv4(x)),inplace=True)\n",
    "        x=F.tanh(self.conv5(x))\n",
    "        return x\n",
    "    def forward(self,x,labels):\n",
    "        embedding=self.embed(labels).unsqueeze(2).unsqueeze(3)\n",
    "        #print(\"gen\")\n",
    "        #print(embedding.shape)\n",
    "        #print(x.shape)\n",
    "        x=torch.cat([x,embedding],dim=1)\n",
    "        x=self.gen(x)\n",
    "        return x\n"
   ]
  },
  {
   "cell_type": "code",
   "execution_count": 7,
   "id": "6506fc5a-94b8-48d2-b274-acb5bdbaf5a0",
   "metadata": {},
   "outputs": [
    {
     "name": "stdout",
     "output_type": "stream",
     "text": [
      "torch.Size([3, 1, 64, 64])\n"
     ]
    }
   ],
   "source": [
    "g=Gen()\n",
    "x=g.forward(torch.randn((3,100,1,1)),torch.tensor([2,3,9],dtype=torch.long))\n",
    "print(x.shape)\n",
    "#print(torch.tensor([2,3,9],dtype=torch.long).shape)"
   ]
  },
  {
   "cell_type": "code",
   "execution_count": 8,
   "id": "55b272fc-d54e-4c82-8721-49dab17eb96f",
   "metadata": {},
   "outputs": [
    {
     "data": {
      "text/plain": [
       "Des(\n",
       "  (conv1): Conv2d(2, 64, kernel_size=(4, 4), stride=(2, 2), padding=(1, 1), bias=False)\n",
       "  (conv2): Conv2d(64, 128, kernel_size=(4, 4), stride=(2, 2), padding=(1, 1), bias=False)\n",
       "  (batch2): BatchNorm2d(128, eps=1e-05, momentum=0.1, affine=True, track_running_stats=True)\n",
       "  (conv3): Conv2d(128, 256, kernel_size=(4, 4), stride=(2, 2), padding=(1, 1), bias=False)\n",
       "  (batch3): BatchNorm2d(256, eps=1e-05, momentum=0.1, affine=True, track_running_stats=True)\n",
       "  (conv4): Conv2d(256, 512, kernel_size=(4, 4), stride=(2, 2), padding=(1, 1), bias=False)\n",
       "  (batch4): BatchNorm2d(512, eps=1e-05, momentum=0.1, affine=True, track_running_stats=True)\n",
       "  (conv5): Conv2d(512, 1, kernel_size=(4, 4), stride=(1, 1), bias=False)\n",
       "  (embed): Embedding(10, 4096)\n",
       ")"
      ]
     },
     "execution_count": 8,
     "metadata": {},
     "output_type": "execute_result"
    }
   ],
   "source": [
    "losses_g=[]#empty list to store genrator loss values so we can visualize them later\n",
    "losses_d=[]#empty list to store descriminator loss values so we can visualize them later\n",
    "def weights_init_normal(m):#weight initialization function for diffrent layes\n",
    "    classname = m.__class__.__name__\n",
    "    if classname.find(\"Conv\") != -1:# for convolution\n",
    "        torch.nn.init.normal_(m.weight.data, 0.0, 0.02)\n",
    "    elif classname.find(\"BatchNorm2d\") != -1:#for batchnorm\n",
    "        torch.nn.init.normal_(m.weight.data, 1.0, 0.02)\n",
    "        torch.nn.init.constant_(m.bias.data, 0.0)\n",
    "\n",
    "gen=Gen().to(device)\n",
    "desc=Des().to(device)\n",
    "gen.apply(weights_init_normal)\n",
    "desc.apply(weights_init_normal)\n"
   ]
  },
  {
   "cell_type": "code",
   "execution_count": 9,
   "id": "e6419d29-263d-4197-ab86-f3897b25df49",
   "metadata": {},
   "outputs": [],
   "source": [
    "import os\n",
    "def train(epochs,desc,gen,dataloader):\n",
    "    optimizer_d=optim.Adam(desc.parameters(), lr = 0.0002, betas = (0.5, 0.999))# baetas are coefficients used for computing running averages of gradient and its square (default: (0.9, 0.999))\n",
    "    optimizer_g=optim.Adam(gen.parameters(), lr = 0.0002, betas = (0.5, 0.999))# baetas are coefficients used for computing running averages of gradient and its square (default: (0.9, 0.999))\n",
    "    loss_fn=nn.BCELoss()# set loss function to binary cross entropy\n",
    "    try:\n",
    "        os.mkdir('output')\n",
    "        os.mkdir('models')\n",
    "    except:\n",
    "        pass\n",
    "    for i in range(epochs):\n",
    "        for j,data in enumerate(dataloader):\n",
    "            # train desc on real\n",
    "            optimizer_d.zero_grad()# set gradient to zero so that each iteration isnt affected with the ones before it\n",
    "            real,labels=data# get real images data\n",
    "            real=real.view(-1,1,64,64)# resize them to be (b_size,1,64,64)\n",
    "            real=Variable(real).to(device)# set data device to GPU\n",
    "            labels=Variable(labels).to(device)\n",
    "            target=Variable(torch.ones(real.size()[0])).to(device)# creat a tensor of ones (real output)\n",
    "            #print(real.shape)\n",
    "            #print(labels.shape)\n",
    "            output=desc.forward(real,labels)# get descriminator predictions on real data (supposed to be 1)\n",
    "            #print('llll')\n",
    "            err_d_real=loss_fn(output,target)# get loss on real data \n",
    "          \n",
    "            #train desc on fake\n",
    "            \n",
    "            target=Variable(torch.zeros(real.size()[0])).to(device)# tensor of zeors\n",
    "            noise=Variable(torch.randn((real.size()[0],100,1,1))).to(device)# create random noise tensor\n",
    "            fake=gen.forward(noise,labels)# genrate fake image\n",
    "            output=desc.forward(fake,labels)# get prediction of descriminator on fake images supposed to be 0\n",
    "            err_d_fake=loss_fn(output,target)# get loss\n",
    "            #gradient descent\n",
    "            err_d=err_d_fake+err_d_real# add both losses of decriminator\n",
    "            err_d.backward()# calculate the gradient descent\n",
    "            optimizer_d.step()#update weights\n",
    "            #train gen\n",
    "            optimizer_g.zero_grad()# set genrator gradient to zero so it doesnt get affected by previous itterations\n",
    "            target=Variable(torch.ones(real.size()[0])).to(device)#tensor of ones\n",
    "            noise=Variable(torch.randn((real.size()[0],100,1,1))).to(device)# create random noise tensor\n",
    "            fake=gen.forward(noise,labels)# genrate fake images\n",
    "            output=desc.forward(fake,labels)# get prediction of descriminator on fake images supposed to be 1 \n",
    "            err_g=loss_fn(output,target)# calculate loss\n",
    "            err_g.backward()# calculate gradient descent\n",
    "            optimizer_g.step()#update weight\n",
    "            if j%10==0:\n",
    "                print('-',end=' ')# print \"-\" each 10 itterations\n",
    "        print('>\\n')# print \">\" at the end of each epoch\n",
    "        print(f' err_d={err_d.data}  err_g={err_g.data}  {i}')\n",
    "        losses_d.append(err_d.data)# append the loss value of descriminator so we can visualize it\n",
    "        losses_g.append(err_g.data)# append the loss value of genrator so we can visualize it\n",
    "        torch.save(gen,f'models//genrator_new_{i}.pt')# save models at a file named models\n",
    "        torch.save(desc,f'models//discriminator_new_{i}.pt')\n",
    "        vutils.save_image(real, f'real_1.jpg', normalize = True) # We save the real images of the minibatch.\n",
    "        fake = gen.forward(noise,labels) # We get our fake generated images.\n",
    "        vutils.save_image(fake.data, f'output//fake_1_{i}.jpg', normalize = True) # We also save the fake generated images of the minibatch."
   ]
  },
  {
   "cell_type": "code",
   "execution_count": 10,
   "id": "ff48cb90-61b4-4626-9137-6d6cbeaebfd7",
   "metadata": {},
   "outputs": [
    {
     "name": "stderr",
     "output_type": "stream",
     "text": [
      "C:\\Users\\abdel\\anaconda3\\envs\\tfgpu\\lib\\site-packages\\torch\\nn\\functional.py:1709: UserWarning: nn.functional.sigmoid is deprecated. Use torch.sigmoid instead.\n",
      "  warnings.warn(\"nn.functional.sigmoid is deprecated. Use torch.sigmoid instead.\")\n"
     ]
    },
    {
     "name": "stdout",
     "output_type": "stream",
     "text": [
      "- - - - - - - - - - - - - - - - - - - - - - - - - - - - - - - - - - - - - - - - - - - - - - - - - - - - - - - - - - - - - - - - - - - - - - - - - - - - - - - - - - - - - - - - - - - - - - >\n",
      "\n",
      " err_d=0.8791414499282837  err_g=4.055726051330566  0\n",
      "- - - - - - - - - - - - - - - - - - - - - - - - - - - - - - - - - - - - - - - - - - - - - - - - - - - - - - - - - - - - - - - - - - - - - - - - - - - - - - - - - - - - - - - - - - - - - - >\n",
      "\n",
      " err_d=1.1568944454193115  err_g=6.630867004394531  1\n",
      "- - - - - - - - - - - - - - - - - - - - - - - - - - - - - - - - - - - - - - - - - - - - - - - - - - - - - - - - - - - - - - - - - - - - - - - - - - - - - - - - - - - - - - - - - - - - - - >\n",
      "\n",
      " err_d=0.22516502439975739  err_g=3.0995147228240967  2\n",
      "- - - - - - - - - - - - - - - - - - - - - - - - - - - - - - - - - - - - - - - - - - - - - - - - - - - - - - - - - - - - - - - - - - - - - - - - - - - - - - - - - - - - - - - - - - - - - - >\n",
      "\n",
      " err_d=0.35229623317718506  err_g=3.9975218772888184  3\n",
      "- - - - - - - - - - - - - - - - - - - - - - - - - - - - - - - - - - - - - - - - - - - - - - - - - - - - - - - - - - - - - - - - - - - - - - - - - - - - - - - - - - - - - - - - - - - - - - >\n",
      "\n",
      " err_d=0.1461934745311737  err_g=5.471556663513184  4\n",
      "- - - - - - - - - - - - - - - - - - - - - - - - - - - - - - - - - - - - - - - - - - - - - - - - - - - - - - - - - - - - - - - - - - - - - - - - - - - - - - - - - - - - - - - - - - - - - - >\n",
      "\n",
      " err_d=0.2262982726097107  err_g=7.047285079956055  5\n",
      "- - - - - - - - - - - - - - - - - - - - - - - - - - - - - - - - - - - - - - - - - - - - - - - - - - - - - - - - - - - - - - - - - - - - - - - - - - - - - - - - - - - - - - - - - - - - - - >\n",
      "\n",
      " err_d=0.13270072638988495  err_g=6.752446174621582  6\n",
      "- - - - - - - - - - - - - - - - - - - - - - - - - - - - - - - - - - - - - - - - - - - - - - - - - - - - - - - - - - - - - - - - - - - - - - - - - - - - - - - - - - - - - - - - - - - - - - >\n",
      "\n",
      " err_d=0.07824596762657166  err_g=4.785358428955078  7\n",
      "- - - - - - - - - - - - - - - - - - - - - - - - - - - - - - - - - - - - - - - - - - - - - - - - - - - - - - - - - - - - - - - - - - - - - - - - - - - - - - - - - - - - - - - - - - - - - - >\n",
      "\n",
      " err_d=0.08654539287090302  err_g=6.901381492614746  8\n",
      "- - - - - - - - - - - - - - - - - - - - - - - - - - - - - - - - - - - - - - - - - - - - - - - - - - - - - - - - - - - - - - - - - - - - - - - - - - - - - - - - - - - - - - - - - - - - - - >\n",
      "\n",
      " err_d=0.16794751584529877  err_g=4.7018022537231445  9\n",
      "- - - - - - - - - - - - - - - - - - - - - - - - - - - - - - - - - - - - - - - - - - - - - - - - - - - - - - - - - - - - - - - - - - - - - - - - - - - - - - - - - - - - - - - - - - - - - - >\n",
      "\n",
      " err_d=0.033372506499290466  err_g=5.544681549072266  10\n",
      "- - - - - - - - - - - - - - - - - - - - - - - - - - - - - - - - - - - - - - - - - - - - - - - - - - - - - - - - - - - - - - - - - - - - - - - - - - - - - - - - - - - - - - - - - - - - - - >\n",
      "\n",
      " err_d=0.042719967663288116  err_g=4.028311252593994  11\n",
      "- - - - - - - - - - - - - - - - - - - - - - - - - - - - - - - - - - - - - - - - - - - - - - - - - - - - - - - - - - - - - - - - - - - - - - - - - - - - - - - - - - - - - - - - - - - - - - >\n",
      "\n",
      " err_d=0.17382216453552246  err_g=8.515957832336426  12\n",
      "- - - - - - - - - - - - - - - - - - - - - - - - - - - - - - - - - - - - - - - - - - - - - - - - - - - - - - - - - - - - - - - - - - - - - - - - - - - - - - - - - - - - - - - - - - - - - - >\n",
      "\n",
      " err_d=0.0410940945148468  err_g=5.258445739746094  13\n",
      "- - - - - - - - - - - - - - - - - - - - - - - - - - - - - - - - - - - - - - - - - - - - - - - - - - - - - - - - - - - - - - - - - - - - - - - - - - - - - - - - - - - - - - - - - - - - - - >\n",
      "\n",
      " err_d=0.09122799336910248  err_g=8.004651069641113  14\n",
      "- - - - - - - - - - - - - - - - - - - - - - - - - - - - - - - - - - - - - - - - - - - - - - - - - - - - - - - - - - - - - - - - - - - - - - - - - - - - - - - - - - - - - - - - - - - - - - >\n",
      "\n",
      " err_d=0.05939212441444397  err_g=5.274360656738281  15\n",
      "- - - - - - - - - - - - - - - - - - - - - - - - - - - - - - - - - - - - - - - - - - - - - - - - - - - - - - - - - - - - - - - - - - - - - - - - - - - - - - - - - - - - - - - - - - - - - - >\n",
      "\n",
      " err_d=0.16419617831707  err_g=9.972450256347656  16\n",
      "- - - - - - - - - - - - - - - - - - - - - - - - - - - - - - - - - - - - - - - - - - - - - - - - - - - - - - - - - - - - - - - - - - - - - - - - - - - - - - - - - - - - - - - - - - - - - - >\n",
      "\n",
      " err_d=0.2827596068382263  err_g=9.63191032409668  17\n",
      "- - - - - - - - - - - - - - - - - - - - - - - - - - - - - - - - - - - - - - - - - - - - - - - - - - - - - - - - - - - - - - - - - - - - - - - - - - - - - - - - - - - - - - - - - - - - - - >\n",
      "\n",
      " err_d=0.09195540845394135  err_g=6.274293899536133  18\n",
      "- - - - - - - - - - - - - - - - - - - - - - - - - - - - - - - - - - - - - - - - - - - - - - - - - - - - - - - - - - - - - - - - - - - - - - - - - - - - - - - - - - - - - - - - - - - - - - >\n",
      "\n",
      " err_d=0.021629463881254196  err_g=6.282770156860352  19\n"
     ]
    }
   ],
   "source": [
    "train(20,desc,gen,dataloader)"
   ]
  },
  {
   "cell_type": "code",
   "execution_count": 11,
   "id": "b2b0cf54-85fe-46ef-a838-b4578430b71a",
   "metadata": {},
   "outputs": [],
   "source": [
    "losses_desc=[]\n",
    "for i in losses_d:\n",
    "    losses_desc.append(float(i))# transform value to float\n",
    "losses_gen=[]\n",
    "for i in losses_g:\n",
    "    losses_gen.append(float(i))\n"
   ]
  },
  {
   "cell_type": "code",
   "execution_count": 12,
   "id": "be762bcf-9856-4247-af4b-df3b44ad60b1",
   "metadata": {},
   "outputs": [
    {
     "data": {
      "image/png": "[encoded data removed]",
      "text/plain": [
       "<Figure size 640x480 with 1 Axes>"
      ]
     },
     "metadata": {},
     "output_type": "display_data"
    }
   ],
   "source": [
    "import matplotlib.pyplot as plt\n",
    "plt.plot(losses_desc,label='descrimenator loss')#visualize descriminator\n",
    "plt.plot(losses_gen,label='genrator loss')#visualize genrator\n",
    "plt.legend()\n",
    "plt.show()"
   ]
  },
  {
   "cell_type": "code",
   "execution_count": 1,
   "id": "a64dd58c-1be5-4de8-ae94-a861911c4940",
   "metadata": {},
   "outputs": [],
   "source": [
    "import torch\n",
    "from PIL import Image\n",
    "import torchvision.transforms as transforms\n",
    "import torchvision.utils as vutils\n",
    "import cv2\n",
    "import torch.nn as nn\n",
    "import torch.nn.functional as F\n",
    "from torch.autograd import Variable\n",
    "import matplotlib.pyplot as plt\n",
    "import numpy as np\n",
    "device = torch.device('cuda' if torch.cuda.is_available() else 'cpu')\n",
    "class Gen(nn.Module):\n",
    "    def __init__(self):\n",
    "        super(Gen,self).__init__()\n",
    "        # the order of parameters are writen in the comments beside each line\n",
    "        self.conv1=nn.ConvTranspose2d(200,512,4,1,0,bias=False)# input,number of output feautre maps,kernel size,stride,padding,biase=Flase\n",
    "        self.batch1=nn.BatchNorm2d(512)\n",
    "        self.conv2=nn.ConvTranspose2d(512,256,4,2,1,bias=False)# input,number of output feautre maps,kernel size,stride,padding,biase=Flase\n",
    "        self.batch2=nn.BatchNorm2d(256)\n",
    "        self.conv3=nn.ConvTranspose2d(256,128,4,2,1,bias=False)# input,number of output feautre maps,kernel size,stride,padding,biase=Flase\n",
    "        self.batch3=nn.BatchNorm2d(128)\n",
    "        self.conv4=nn.ConvTranspose2d(128,64,4,2,1,bias=False)# input,number of output feautre maps,kernel size,stride,padding,biase=Flase\n",
    "        self.batch4=nn.BatchNorm2d(64)\n",
    "        self.conv5=nn.ConvTranspose2d(64,1,4,2,1,bias=False)# input,number of output feautre maps,kernel size,stride,padding,biase=Flase\n",
    "        self.embed=nn.Embedding(10,100)\n",
    "    def gen(self,x):\n",
    "        x=F.relu(self.batch1(self.conv1(x)),inplace=True)#means that it will modify the input directly, without allocating any additional output.\n",
    "        #It can sometimes slightly decrease the memory usage\n",
    "        x=F.relu(self.batch2(self.conv2(x)),inplace=True)\n",
    "        x=F.dropout2d(x,0.25)\n",
    "        x=F.relu(self.batch3(self.conv3(x)),inplace=True)\n",
    "        x=F.relu(self.batch4(self.conv4(x)),inplace=True)\n",
    "        x=F.tanh(self.conv5(x))\n",
    "        return x\n",
    "    def forward(self,x,labels):\n",
    "        embedding=self.embed(labels).unsqueeze(2).unsqueeze(3)\n",
    "        #print(\"gen\")\n",
    "        #print(embedding.shape)\n",
    "        #print(x.shape)\n",
    "        x=torch.cat([x,embedding],dim=1)\n",
    "        x=self.gen(x)\n",
    "        return x\n",
    "gen=torch.load('models//genrator_new_19.pt')\n",
    "def genrate(l,filename=\"output.jpg\"):\n",
    "    noise=torch.randn((1,100,1,1)).to(device)\n",
    "    fake=gen(noise,torch.tensor([l],dtype=torch.long).to(device))\n",
    "    vutils.save_image(fake.data, filename, normalize = True) # We also save the fake generated images of the minibatch.\n",
    "    img=plt.imread(filename)\n",
    "    plt.imshow(img)\n",
    "    plt.show()"
   ]
  },
  {
   "cell_type": "code",
   "execution_count": 12,
   "id": "9462a8e2-b8d2-4e75-ba45-6fe8a75dcdaa",
   "metadata": {},
   "outputs": [
    {
     "name": "stdin",
     "output_type": "stream",
     "text": [
      "what digit do you want to genrate:  9\n"
     ]
    },
    {
     "data": {
      "image/png": "[encoded data removed]",
      "text/plain": [
       "<Figure size 640x480 with 1 Axes>"
      ]
     },
     "metadata": {},
     "output_type": "display_data"
    }
   ],
   "source": [
    "l=int(input(\"what digit do you want to genrate: \"))\n",
    "genrate(l)"
   ]
  },
  {
   "cell_type": "code",
   "execution_count": null,
   "id": "89c49b35-da9d-429a-8ff3-5c7e443b99b7",
   "metadata": {},
   "outputs": [],
   "source": []
  }
 ],
 "metadata": {
  "kernelspec": {
   "display_name": "Python 3",
   "language": "python",
   "name": "python3"
  },
  "language_info": {
   "codemirror_mode": {
    "name": "ipython",
    "version": 3
   },
   "file_extension": ".py",
   "mimetype": "text/x-python",
   "name": "python",
   "nbconvert_exporter": "python",
   "pygments_lexer": "ipython3",
   "version": "3.7.11"
  }
 },
 "nbformat": 4,
 "nbformat_minor": 5
}
